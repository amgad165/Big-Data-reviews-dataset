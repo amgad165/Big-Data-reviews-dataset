{
 "cells": [
  {
   "cell_type": "code",
   "execution_count": 1,
   "id": "21abb367",
   "metadata": {
    "scrolled": false
   },
   "outputs": [
    {
     "data": {
      "text/plain": [
       "'C:\\\\spark-3.2.1-bin-hadoop3.2'"
      ]
     },
     "execution_count": 1,
     "metadata": {},
     "output_type": "execute_result"
    }
   ],
   "source": [
    "import findspark\n",
    "findspark.init()\n",
    "findspark.find()"
   ]
  },
  {
   "cell_type": "code",
   "execution_count": 2,
   "id": "bc91b6b4",
   "metadata": {},
   "outputs": [],
   "source": [
    "import pyspark\n",
    "from pyspark import SparkContext\n",
    "from pyspark import SparkConf"
   ]
  },
  {
   "cell_type": "code",
   "execution_count": 3,
   "id": "3e329b41",
   "metadata": {},
   "outputs": [],
   "source": [
    "from pyspark.sql import SparkSession\n",
    "\n",
    "spark = SparkSession.builder.getOrCreate()"
   ]
  },
  {
   "cell_type": "code",
   "execution_count": 4,
   "id": "df94bdc3",
   "metadata": {},
   "outputs": [],
   "source": [
    "df = spark.read.format(\"json\").option(\"multiLine\", \"true\").load(\"reviews.json\")"
   ]
  },
  {
   "cell_type": "markdown",
   "id": "4f4e482f",
   "metadata": {},
   "source": [
    "# Aggregating and summarizing data into useful reports"
   ]
  },
  {
   "cell_type": "markdown",
   "id": "53653778",
   "metadata": {},
   "source": [
    "### Getting the distinct values in preliminary_decision"
   ]
  },
  {
   "cell_type": "code",
   "execution_count": 5,
   "id": "79e95d00",
   "metadata": {},
   "outputs": [
    {
     "data": {
      "text/plain": [
       "{'accept', 'no decision', 'probably reject', 'reject'}"
      ]
     },
     "execution_count": 5,
     "metadata": {},
     "output_type": "execute_result"
    }
   ],
   "source": [
    "distinct_preliminary_decision =set(df.select('paper.preliminary_decision').collect()[0][0]) \n",
    "distinct_preliminary_decision"
   ]
  },
  {
   "cell_type": "code",
   "execution_count": 9,
   "id": "18a5700b",
   "metadata": {},
   "outputs": [],
   "source": [
    "review = df.select('paper.review').collect()[0][0]\n"
   ]
  },
  {
   "cell_type": "code",
   "execution_count": 10,
   "id": "94bb4b6d",
   "metadata": {},
   "outputs": [],
   "source": [
    "import numpy as np"
   ]
  },
  {
   "cell_type": "markdown",
   "id": "ccc400a5",
   "metadata": {},
   "source": [
    "## insights about the \"confidence\" of all reviews"
   ]
  },
  {
   "cell_type": "code",
   "execution_count": 11,
   "id": "763d1a69",
   "metadata": {},
   "outputs": [],
   "source": [
    "confidence = []\n",
    "for i in review:\n",
    "    for j in i:\n",
    "        confidence.append(j[0])"
   ]
  },
  {
   "cell_type": "markdown",
   "id": "4e9fc2e9",
   "metadata": {},
   "source": [
    "### cleaning confidence and get disinct values"
   ]
  },
  {
   "cell_type": "code",
   "execution_count": 12,
   "id": "70415d30",
   "metadata": {},
   "outputs": [
    {
     "data": {
      "text/plain": [
       "{1, 2, 3, 4, 5}"
      ]
     },
     "execution_count": 12,
     "metadata": {},
     "output_type": "execute_result"
    }
   ],
   "source": [
    "confidence = [int(x) for x in confidence if x is not None]\n",
    "set(confidence)"
   ]
  },
  {
   "cell_type": "markdown",
   "id": "a7974a44",
   "metadata": {},
   "source": [
    "### avg of confidences"
   ]
  },
  {
   "cell_type": "code",
   "execution_count": 13,
   "id": "aeadb523",
   "metadata": {},
   "outputs": [
    {
     "data": {
      "text/plain": [
       "3.5732009925558312"
      ]
     },
     "execution_count": 13,
     "metadata": {},
     "output_type": "execute_result"
    }
   ],
   "source": [
    "np.mean(confidence)"
   ]
  },
  {
   "cell_type": "markdown",
   "id": "3828162e",
   "metadata": {},
   "source": [
    "## insights about the \"evaluation\" of all reviews"
   ]
  },
  {
   "cell_type": "code",
   "execution_count": 14,
   "id": "0b92d283",
   "metadata": {},
   "outputs": [],
   "source": [
    "evalu = []\n",
    "for i in review:\n",
    "    for j in i:\n",
    "        evalu.append(j[1])"
   ]
  },
  {
   "cell_type": "markdown",
   "id": "f4a5e9c2",
   "metadata": {},
   "source": [
    "### cleaning evaluation and get disinct values"
   ]
  },
  {
   "cell_type": "code",
   "execution_count": 15,
   "id": "572e3c3a",
   "metadata": {
    "scrolled": true
   },
   "outputs": [
    {
     "data": {
      "text/plain": [
       "{-2, -1, 0, 1, 2}"
      ]
     },
     "execution_count": 15,
     "metadata": {},
     "output_type": "execute_result"
    }
   ],
   "source": [
    "evalu = [ int(x) for x in evalu if x is not None]\n",
    "set(evalu)"
   ]
  },
  {
   "cell_type": "markdown",
   "id": "57a7a1f0",
   "metadata": {},
   "source": [
    "### avg of \"evaluation\"\n",
    "\n"
   ]
  },
  {
   "cell_type": "code",
   "execution_count": 16,
   "id": "6b67af92",
   "metadata": {
    "scrolled": false
   },
   "outputs": [
    {
     "data": {
      "text/plain": [
       "0.18271604938271604"
      ]
     },
     "execution_count": 16,
     "metadata": {},
     "output_type": "execute_result"
    }
   ],
   "source": [
    "np.mean(evalu)"
   ]
  },
  {
   "cell_type": "markdown",
   "id": "53b89d1a",
   "metadata": {},
   "source": [
    "## insights about the \"orientation\" of all reviews"
   ]
  },
  {
   "cell_type": "code",
   "execution_count": 17,
   "id": "f2e333fc",
   "metadata": {},
   "outputs": [],
   "source": [
    "orientation = []\n",
    "for i in review:\n",
    "    for j in i:\n",
    "        orientation.append(j[4])"
   ]
  },
  {
   "cell_type": "markdown",
   "id": "7455ab3b",
   "metadata": {},
   "source": [
    "### cleaning evaluation and get disinct values"
   ]
  },
  {
   "cell_type": "code",
   "execution_count": 18,
   "id": "28e01b2d",
   "metadata": {
    "scrolled": true
   },
   "outputs": [
    {
     "data": {
      "text/plain": [
       "{-2, -1, 0, 1, 2}"
      ]
     },
     "execution_count": 18,
     "metadata": {},
     "output_type": "execute_result"
    }
   ],
   "source": [
    "orientation = [ int(x) for x in orientation if x is not None]\n",
    "set(orientation)"
   ]
  },
  {
   "cell_type": "markdown",
   "id": "7f6f2046",
   "metadata": {},
   "source": [
    "### avg of \"evaluation\"\n",
    "\n"
   ]
  },
  {
   "cell_type": "code",
   "execution_count": 19,
   "id": "564eb164",
   "metadata": {
    "scrolled": true
   },
   "outputs": [
    {
     "data": {
      "text/plain": [
       "-0.2123456790123457"
      ]
     },
     "execution_count": 19,
     "metadata": {},
     "output_type": "execute_result"
    }
   ],
   "source": [
    "np.mean(orientation)"
   ]
  },
  {
   "cell_type": "markdown",
   "id": "a0891235",
   "metadata": {},
   "source": [
    "## insights about the \"timespan\" of all reviews"
   ]
  },
  {
   "cell_type": "code",
   "execution_count": 20,
   "id": "5fd8a4ff",
   "metadata": {},
   "outputs": [],
   "source": [
    "timespan = []\n",
    "for i in review:\n",
    "    for j in i:\n",
    "        timespan.append(j[7])"
   ]
  },
  {
   "cell_type": "markdown",
   "id": "136555cb",
   "metadata": {},
   "source": [
    "### cleaning timespan and get disinct values"
   ]
  },
  {
   "cell_type": "code",
   "execution_count": 21,
   "id": "0262b792",
   "metadata": {
    "scrolled": true
   },
   "outputs": [
    {
     "data": {
      "text/plain": [
       "{'2010-07-05', '2013-07-05', '2014-07-05', '2015-07-05'}"
      ]
     },
     "execution_count": 21,
     "metadata": {},
     "output_type": "execute_result"
    }
   ],
   "source": [
    "orientation = [ x for x in timespan if x is not None]\n",
    "set(timespan)"
   ]
  },
  {
   "cell_type": "code",
   "execution_count": null,
   "id": "d3f863a4",
   "metadata": {},
   "outputs": [],
   "source": []
  }
 ],
 "metadata": {
  "kernelspec": {
   "display_name": "Python 3 (ipykernel)",
   "language": "python",
   "name": "python3"
  },
  "language_info": {
   "codemirror_mode": {
    "name": "ipython",
    "version": 3
   },
   "file_extension": ".py",
   "mimetype": "text/x-python",
   "name": "python",
   "nbconvert_exporter": "python",
   "pygments_lexer": "ipython3",
   "version": "3.9.7"
  }
 },
 "nbformat": 4,
 "nbformat_minor": 5
}
