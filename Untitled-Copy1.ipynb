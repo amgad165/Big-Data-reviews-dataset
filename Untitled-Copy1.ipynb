{
 "cells": [
  {
   "cell_type": "code",
   "execution_count": 2,
   "id": "5725851c",
   "metadata": {},
   "outputs": [
    {
     "data": {
      "text/plain": [
       "'C:\\\\spark-3.2.1-bin-hadoop3.2'"
      ]
     },
     "execution_count": 2,
     "metadata": {},
     "output_type": "execute_result"
    }
   ],
   "source": [
    "import findspark\n",
    "findspark.init()\n",
    "findspark.find()"
   ]
  },
  {
   "cell_type": "code",
   "execution_count": 5,
   "id": "a772d662",
   "metadata": {},
   "outputs": [],
   "source": [
    "import pyspark\n",
    "from pyspark import SparkContext\n",
    "from pyspark import SparkConf"
   ]
  },
  {
   "cell_type": "code",
   "execution_count": 7,
   "id": "272c968b",
   "metadata": {},
   "outputs": [],
   "source": [
    "from pyspark.sql import SparkSession\n",
    "\n",
    "spark = SparkSession.builder.getOrCreate()"
   ]
  },
  {
   "cell_type": "code",
   "execution_count": 127,
   "id": "d3172d52",
   "metadata": {},
   "outputs": [],
   "source": [
    "df = spark.read.format(\"json\").option(\"multiLine\", \"true\").load(\"reviews.json\")"
   ]
  },
  {
   "cell_type": "code",
   "execution_count": 128,
   "id": "e19f60df",
   "metadata": {},
   "outputs": [
    {
     "name": "stdout",
     "output_type": "stream",
     "text": [
      "+--------------------+\n",
      "|               paper|\n",
      "+--------------------+\n",
      "|[{1, accept, [{4,...|\n",
      "+--------------------+\n",
      "\n"
     ]
    }
   ],
   "source": [
    "df.show()"
   ]
  },
  {
   "cell_type": "code",
   "execution_count": 106,
   "id": "d218c35c",
   "metadata": {
    "scrolled": true
   },
   "outputs": [
    {
     "data": {
      "text/plain": [
       "1"
      ]
     },
     "execution_count": 106,
     "metadata": {},
     "output_type": "execute_result"
    }
   ],
   "source": [
    "df.count()"
   ]
  },
  {
   "cell_type": "code",
   "execution_count": 130,
   "id": "e4a66830",
   "metadata": {},
   "outputs": [
    {
     "data": {
      "text/plain": [
       "Column<'paper'>"
      ]
     },
     "execution_count": 130,
     "metadata": {},
     "output_type": "execute_result"
    }
   ],
   "source": [
    "from pyspark.sql.functions import explode\n",
    "\n",
    "df_paper = df.withColumn(\"paper\",explode(df.paper))\n",
    "\n",
    "df_paper[0]"
   ]
  },
  {
   "cell_type": "code",
   "execution_count": 171,
   "id": "e7b3b17a",
   "metadata": {},
   "outputs": [
    {
     "name": "stdout",
     "output_type": "stream",
     "text": [
      "Row(paper=Row(id=1, preliminary_decision='accept', review=[Row(confidence='4', evaluation='1', id=1, lan='es', orientation='0', remarks='', text='- El artículo aborda un problema contingente y muy relevante, e incluye tanto un diagnóstico nacional de uso de buenas prácticas como una solución (buenas prácticas concretas). - El lenguaje es adecuado.  - El artículo se siente como la concatenación de tres artículos diferentes: (1) resultados de una encuesta, (2) buenas prácticas de seguridad, (3) incorporación de buenas prácticas. - El orden de las secciones sería mejor si refleja este orden (la versión revisada es #2, #1, #3). - El artículo no tiene validación de ningún tipo, ni siquiera por evaluación de expertos.', timespan='2010-07-05'), Row(confidence='4', evaluation='1', id=2, lan='es', orientation='1', remarks='', text='El artículo presenta recomendaciones prácticas para el desarrollo de software seguro. Se describen las mejores prácticas recomendadas para desarrollar software que sea proactivo ante los ataques, y se realiza un análisis de costos de estas prácticas en desarrollo de software. Todo basado en una revisión de prácticas propuestas en la bibliografía y su contraste con datos obtenidos de una encuesta en empresas. Finalmente se recomienda una guía.  Sería ideal aplicar la guía propuesta a empresas no involucradas en la encuesta que sirvió para originarla de modo de poder evaluar su efectividad en forma independiente.', timespan='2010-07-05'), Row(confidence='5', evaluation='1', id=3, lan='es', orientation='1', remarks='', text='- El tema es muy interesante y puede ser de mucha ayuda una guía para incorporar prácticas de seguridad. - La presentación (descripción, etapa y uso) de las 9 prácticas para el desarrollo de software seguro.  - El “estado real del desarrollo de software en Chile” (como lo indica en su paper) no se puede lograr con solamente 22 encuestas de un total de 50. - Presenta nueve tablas que corresponden a las prácticas para el desarrollo de software seguro, pero la guía presenta 10 prácticas. ¿explica por qué? - Sugiero mejorar la guía, el mayor aporte está en la secuencia de incorporación que propone.  Además, no debería explicar la práctica en Observaciones ni diferenciarla con otras prácticas en esa columna, sino que debería dar sugerencias de cómo aplicarla. - En el texto indica “Más adelante, se presentan además tres prácticas extras…” ¿cuáles son o no leí correctamente? - De acuerdo a formato, poner como mínimo 5 palabras clave. - Sugiero mencionar las prácticas antes de mostrar cada tabla. - Algunas referencias están incompletas, por ejemplo, falta año en referencia 17, falta año y tipo de evento en referencia 11, falta editorial en referencia 19 (¿es un libro?) - Algunos títulos llevan una coma dentro de las comillas, ejemplo, referencia 1', timespan='2010-07-05')]))\n"
     ]
    }
   ],
   "source": [
    "print(df_paper.collect()[0])"
   ]
  },
  {
   "cell_type": "markdown",
   "id": "761fb6fa",
   "metadata": {},
   "source": [
    "### Getting the distinct values in preliminary_decision"
   ]
  },
  {
   "cell_type": "code",
   "execution_count": 206,
   "id": "13b68977",
   "metadata": {},
   "outputs": [
    {
     "data": {
      "text/plain": [
       "{'accept', 'no decision', 'probably reject', 'reject'}"
      ]
     },
     "execution_count": 206,
     "metadata": {},
     "output_type": "execute_result"
    }
   ],
   "source": [
    "distinct_preliminary_decision =set(df.select('paper.preliminary_decision').collect()[0][0]) \n",
    "distinct_preliminary_decision"
   ]
  },
  {
   "cell_type": "code",
   "execution_count": 298,
   "id": "dbe97f65",
   "metadata": {},
   "outputs": [],
   "source": [
    "review = df.select('paper.review').collect()[0][0]\n"
   ]
  },
  {
   "cell_type": "code",
   "execution_count": 299,
   "id": "5f8b87cf",
   "metadata": {},
   "outputs": [],
   "source": [
    "import numpy as np"
   ]
  },
  {
   "cell_type": "markdown",
   "id": "73db5e53",
   "metadata": {},
   "source": [
    "## insights about the \"confidence\" of all reviews"
   ]
  },
  {
   "cell_type": "code",
   "execution_count": 269,
   "id": "3d5465af",
   "metadata": {},
   "outputs": [],
   "source": [
    "confidence = []\n",
    "for i in review:\n",
    "    for j in i:\n",
    "        confidence.append(j[0])"
   ]
  },
  {
   "cell_type": "markdown",
   "id": "da27032d",
   "metadata": {},
   "source": [
    "### cleaning confidence and get disinct values"
   ]
  },
  {
   "cell_type": "code",
   "execution_count": 282,
   "id": "cc3eef88",
   "metadata": {},
   "outputs": [
    {
     "data": {
      "text/plain": [
       "{1, 2, 3, 4, 5}"
      ]
     },
     "execution_count": 282,
     "metadata": {},
     "output_type": "execute_result"
    }
   ],
   "source": [
    "confidence = [int(x) for x in confidence if x is not None]\n",
    "set(confidence)"
   ]
  },
  {
   "cell_type": "markdown",
   "id": "22b03144",
   "metadata": {},
   "source": [
    "### avg of confidences"
   ]
  },
  {
   "cell_type": "code",
   "execution_count": 283,
   "id": "f01a6fd9",
   "metadata": {},
   "outputs": [
    {
     "data": {
      "text/plain": [
       "3.5732009925558312"
      ]
     },
     "execution_count": 283,
     "metadata": {},
     "output_type": "execute_result"
    }
   ],
   "source": [
    "np.mean(confidence)"
   ]
  },
  {
   "cell_type": "markdown",
   "id": "ea2eee0a",
   "metadata": {},
   "source": [
    "## insights about the \"evaluation\" of all reviews"
   ]
  },
  {
   "cell_type": "code",
   "execution_count": 304,
   "id": "21ee4872",
   "metadata": {},
   "outputs": [],
   "source": [
    "evalu = []\n",
    "for i in review:\n",
    "    for j in i:\n",
    "        evalu.append(j[1])"
   ]
  },
  {
   "cell_type": "markdown",
   "id": "6d8a3c6b",
   "metadata": {},
   "source": [
    "### cleaning evaluation and get disinct values"
   ]
  },
  {
   "cell_type": "code",
   "execution_count": 305,
   "id": "420be358",
   "metadata": {
    "scrolled": true
   },
   "outputs": [
    {
     "data": {
      "text/plain": [
       "{-2, -1, 0, 1, 2}"
      ]
     },
     "execution_count": 305,
     "metadata": {},
     "output_type": "execute_result"
    }
   ],
   "source": [
    "evalu = [ int(x) for x in evalu if x is not None]\n",
    "set(evalu)"
   ]
  },
  {
   "cell_type": "markdown",
   "id": "521da043",
   "metadata": {},
   "source": [
    "### avg of \"evaluation\"\n",
    "\n"
   ]
  },
  {
   "cell_type": "code",
   "execution_count": 306,
   "id": "ab000175",
   "metadata": {
    "scrolled": true
   },
   "outputs": [
    {
     "data": {
      "text/plain": [
       "0.18271604938271604"
      ]
     },
     "execution_count": 306,
     "metadata": {},
     "output_type": "execute_result"
    }
   ],
   "source": [
    "np.mean(evaluation)"
   ]
  },
  {
   "cell_type": "code",
   "execution_count": null,
   "id": "0f64d8fb",
   "metadata": {},
   "outputs": [],
   "source": []
  }
 ],
 "metadata": {
  "kernelspec": {
   "display_name": "Python 3 (ipykernel)",
   "language": "python",
   "name": "python3"
  },
  "language_info": {
   "codemirror_mode": {
    "name": "ipython",
    "version": 3
   },
   "file_extension": ".py",
   "mimetype": "text/x-python",
   "name": "python",
   "nbconvert_exporter": "python",
   "pygments_lexer": "ipython3",
   "version": "3.9.7"
  }
 },
 "nbformat": 4,
 "nbformat_minor": 5
}
