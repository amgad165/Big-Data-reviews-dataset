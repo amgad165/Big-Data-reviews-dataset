{
 "cells": [
  {
   "cell_type": "code",
   "execution_count": 2,
   "id": "21abb367",
   "metadata": {
    "scrolled": false
   },
   "outputs": [
    {
     "data": {
      "text/plain": [
       "'C:\\\\spark-3.2.1-bin-hadoop3.2'"
      ]
     },
     "execution_count": 2,
     "metadata": {},
     "output_type": "execute_result"
    }
   ],
   "source": [
    "import findspark\n",
    "findspark.init()\n",
    "findspark.find()"
   ]
  },
  {
   "cell_type": "code",
   "execution_count": 3,
   "id": "bc91b6b4",
   "metadata": {},
   "outputs": [],
   "source": [
    "import pyspark\n",
    "from pyspark import SparkContext\n",
    "from pyspark import SparkConf"
   ]
  },
  {
   "cell_type": "code",
   "execution_count": 7,
   "id": "3e329b41",
   "metadata": {},
   "outputs": [],
   "source": [
    "from pyspark.sql import SparkSession\n",
    "\n",
    "spark = SparkSession.builder.getOrCreate()"
   ]
  },
  {
   "cell_type": "code",
   "execution_count": 9,
   "id": "df94bdc3",
   "metadata": {},
   "outputs": [],
   "source": [
    "df = spark.read.format(\"json\").option(\"multiLine\", \"true\").load(\"reviews.json\")"
   ]
  },
  {
   "cell_type": "code",
   "execution_count": 10,
   "id": "6b1b7d55",
   "metadata": {
    "scrolled": true
   },
   "outputs": [
    {
     "name": "stdout",
     "output_type": "stream",
     "text": [
      "+--------------------+\n",
      "|               paper|\n",
      "+--------------------+\n",
      "|[{1, accept, [{4,...|\n",
      "+--------------------+\n",
      "\n"
     ]
    }
   ],
   "source": [
    "df.show()"
   ]
  },
  {
   "cell_type": "code",
   "execution_count": 12,
   "id": "9996ac15",
   "metadata": {},
   "outputs": [
    {
     "data": {
      "text/plain": [
       "Column<'paper'>"
      ]
     },
     "execution_count": 12,
     "metadata": {},
     "output_type": "execute_result"
    }
   ],
   "source": [
    "from pyspark.sql.functions import explode\n",
    "\n",
    "df_paper = df.withColumn(\"paper\",explode(df.paper))\n",
    "\n",
    "df_paper[0]"
   ]
  },
  {
   "cell_type": "code",
   "execution_count": 13,
   "id": "4537d82d",
   "metadata": {},
   "outputs": [
    {
     "name": "stdout",
     "output_type": "stream",
     "text": [
      "Row(paper=Row(id=1, preliminary_decision='accept', review=[Row(confidence='4', evaluation='1', id=1, lan='es', orientation='0', remarks='', text='- El artículo aborda un problema contingente y muy relevante, e incluye tanto un diagnóstico nacional de uso de buenas prácticas como una solución (buenas prácticas concretas). - El lenguaje es adecuado.  - El artículo se siente como la concatenación de tres artículos diferentes: (1) resultados de una encuesta, (2) buenas prácticas de seguridad, (3) incorporación de buenas prácticas. - El orden de las secciones sería mejor si refleja este orden (la versión revisada es #2, #1, #3). - El artículo no tiene validación de ningún tipo, ni siquiera por evaluación de expertos.', timespan='2010-07-05'), Row(confidence='4', evaluation='1', id=2, lan='es', orientation='1', remarks='', text='El artículo presenta recomendaciones prácticas para el desarrollo de software seguro. Se describen las mejores prácticas recomendadas para desarrollar software que sea proactivo ante los ataques, y se realiza un análisis de costos de estas prácticas en desarrollo de software. Todo basado en una revisión de prácticas propuestas en la bibliografía y su contraste con datos obtenidos de una encuesta en empresas. Finalmente se recomienda una guía.  Sería ideal aplicar la guía propuesta a empresas no involucradas en la encuesta que sirvió para originarla de modo de poder evaluar su efectividad en forma independiente.', timespan='2010-07-05'), Row(confidence='5', evaluation='1', id=3, lan='es', orientation='1', remarks='', text='- El tema es muy interesante y puede ser de mucha ayuda una guía para incorporar prácticas de seguridad. - La presentación (descripción, etapa y uso) de las 9 prácticas para el desarrollo de software seguro.  - El “estado real del desarrollo de software en Chile” (como lo indica en su paper) no se puede lograr con solamente 22 encuestas de un total de 50. - Presenta nueve tablas que corresponden a las prácticas para el desarrollo de software seguro, pero la guía presenta 10 prácticas. ¿explica por qué? - Sugiero mejorar la guía, el mayor aporte está en la secuencia de incorporación que propone.  Además, no debería explicar la práctica en Observaciones ni diferenciarla con otras prácticas en esa columna, sino que debería dar sugerencias de cómo aplicarla. - En el texto indica “Más adelante, se presentan además tres prácticas extras…” ¿cuáles son o no leí correctamente? - De acuerdo a formato, poner como mínimo 5 palabras clave. - Sugiero mencionar las prácticas antes de mostrar cada tabla. - Algunas referencias están incompletas, por ejemplo, falta año en referencia 17, falta año y tipo de evento en referencia 11, falta editorial en referencia 19 (¿es un libro?) - Algunos títulos llevan una coma dentro de las comillas, ejemplo, referencia 1', timespan='2010-07-05')]))\n"
     ]
    }
   ],
   "source": [
    "print(df_paper.collect()[0])"
   ]
  },
  {
   "cell_type": "markdown",
   "id": "53653778",
   "metadata": {},
   "source": [
    "### Getting the distinct values in preliminary_decision"
   ]
  },
  {
   "cell_type": "code",
   "execution_count": 14,
   "id": "79e95d00",
   "metadata": {},
   "outputs": [
    {
     "data": {
      "text/plain": [
       "{'accept', 'no decision', 'probably reject', 'reject'}"
      ]
     },
     "execution_count": 14,
     "metadata": {},
     "output_type": "execute_result"
    }
   ],
   "source": [
    "distinct_preliminary_decision =set(df.select('paper.preliminary_decision').collect()[0][0]) \n",
    "distinct_preliminary_decision"
   ]
  },
  {
   "cell_type": "code",
   "execution_count": 15,
   "id": "3a3a7b00",
   "metadata": {},
   "outputs": [],
   "source": [
    "review = df.select('paper.review').collect()[0][0]\n"
   ]
  },
  {
   "cell_type": "code",
   "execution_count": 16,
   "id": "94bb4b6d",
   "metadata": {},
   "outputs": [],
   "source": [
    "import numpy as np"
   ]
  },
  {
   "cell_type": "markdown",
   "id": "ccc400a5",
   "metadata": {},
   "source": [
    "## insights about the \"confidence\" of all reviews"
   ]
  },
  {
   "cell_type": "code",
   "execution_count": 17,
   "id": "763d1a69",
   "metadata": {},
   "outputs": [],
   "source": [
    "confidence = []\n",
    "for i in review:\n",
    "    for j in i:\n",
    "        confidence.append(j[0])"
   ]
  },
  {
   "cell_type": "markdown",
   "id": "4e9fc2e9",
   "metadata": {},
   "source": [
    "### cleaning confidence and get disinct values"
   ]
  },
  {
   "cell_type": "code",
   "execution_count": 18,
   "id": "70415d30",
   "metadata": {},
   "outputs": [
    {
     "data": {
      "text/plain": [
       "{1, 2, 3, 4, 5}"
      ]
     },
     "execution_count": 18,
     "metadata": {},
     "output_type": "execute_result"
    }
   ],
   "source": [
    "confidence = [int(x) for x in confidence if x is not None]\n",
    "set(confidence)"
   ]
  },
  {
   "cell_type": "markdown",
   "id": "a7974a44",
   "metadata": {},
   "source": [
    "### avg of confidences"
   ]
  },
  {
   "cell_type": "code",
   "execution_count": 19,
   "id": "aeadb523",
   "metadata": {},
   "outputs": [
    {
     "data": {
      "text/plain": [
       "3.5732009925558312"
      ]
     },
     "execution_count": 19,
     "metadata": {},
     "output_type": "execute_result"
    }
   ],
   "source": [
    "np.mean(confidence)"
   ]
  },
  {
   "cell_type": "markdown",
   "id": "3828162e",
   "metadata": {},
   "source": [
    "## insights about the \"evaluation\" of all reviews"
   ]
  },
  {
   "cell_type": "code",
   "execution_count": 20,
   "id": "0b92d283",
   "metadata": {},
   "outputs": [],
   "source": [
    "evalu = []\n",
    "for i in review:\n",
    "    for j in i:\n",
    "        evalu.append(j[1])"
   ]
  },
  {
   "cell_type": "markdown",
   "id": "f4a5e9c2",
   "metadata": {},
   "source": [
    "### cleaning evaluation and get disinct values"
   ]
  },
  {
   "cell_type": "code",
   "execution_count": 21,
   "id": "572e3c3a",
   "metadata": {
    "scrolled": true
   },
   "outputs": [
    {
     "data": {
      "text/plain": [
       "{-2, -1, 0, 1, 2}"
      ]
     },
     "execution_count": 21,
     "metadata": {},
     "output_type": "execute_result"
    }
   ],
   "source": [
    "evalu = [ int(x) for x in evalu if x is not None]\n",
    "set(evalu)"
   ]
  },
  {
   "cell_type": "markdown",
   "id": "57a7a1f0",
   "metadata": {},
   "source": [
    "### avg of \"evaluation\"\n",
    "\n"
   ]
  },
  {
   "cell_type": "code",
   "execution_count": 24,
   "id": "6b67af92",
   "metadata": {
    "scrolled": false
   },
   "outputs": [
    {
     "data": {
      "text/plain": [
       "0.18271604938271604"
      ]
     },
     "execution_count": 24,
     "metadata": {},
     "output_type": "execute_result"
    }
   ],
   "source": [
    "np.mean(evalu)"
   ]
  },
  {
   "cell_type": "markdown",
   "id": "53b89d1a",
   "metadata": {},
   "source": [
    "## insights about the \"orientation\" of all reviews"
   ]
  },
  {
   "cell_type": "code",
   "execution_count": 25,
   "id": "f2e333fc",
   "metadata": {},
   "outputs": [],
   "source": [
    "orientation = []\n",
    "for i in review:\n",
    "    for j in i:\n",
    "        orientation.append(j[4])"
   ]
  },
  {
   "cell_type": "markdown",
   "id": "7455ab3b",
   "metadata": {},
   "source": [
    "### cleaning evaluation and get disinct values"
   ]
  },
  {
   "cell_type": "code",
   "execution_count": 26,
   "id": "28e01b2d",
   "metadata": {
    "scrolled": true
   },
   "outputs": [
    {
     "data": {
      "text/plain": [
       "{-2, -1, 0, 1, 2}"
      ]
     },
     "execution_count": 26,
     "metadata": {},
     "output_type": "execute_result"
    }
   ],
   "source": [
    "orientation = [ int(x) for x in orientation if x is not None]\n",
    "set(orientation)"
   ]
  },
  {
   "cell_type": "markdown",
   "id": "7f6f2046",
   "metadata": {},
   "source": [
    "### avg of \"evaluation\"\n",
    "\n"
   ]
  },
  {
   "cell_type": "code",
   "execution_count": 27,
   "id": "564eb164",
   "metadata": {
    "scrolled": true
   },
   "outputs": [
    {
     "data": {
      "text/plain": [
       "-0.2123456790123457"
      ]
     },
     "execution_count": 27,
     "metadata": {},
     "output_type": "execute_result"
    }
   ],
   "source": [
    "np.mean(orientation)"
   ]
  },
  {
   "cell_type": "markdown",
   "id": "a0891235",
   "metadata": {},
   "source": [
    "## insights about the \"timespan\" of all reviews"
   ]
  },
  {
   "cell_type": "code",
   "execution_count": 28,
   "id": "5fd8a4ff",
   "metadata": {},
   "outputs": [],
   "source": [
    "timespan = []\n",
    "for i in review:\n",
    "    for j in i:\n",
    "        timespan.append(j[7])"
   ]
  },
  {
   "cell_type": "markdown",
   "id": "136555cb",
   "metadata": {},
   "source": [
    "### cleaning timespan and get disinct values"
   ]
  },
  {
   "cell_type": "code",
   "execution_count": 29,
   "id": "0262b792",
   "metadata": {
    "scrolled": true
   },
   "outputs": [
    {
     "data": {
      "text/plain": [
       "{'2010-07-05', '2013-07-05', '2014-07-05', '2015-07-05'}"
      ]
     },
     "execution_count": 29,
     "metadata": {},
     "output_type": "execute_result"
    }
   ],
   "source": [
    "orientation = [ x for x in timespan if x is not None]\n",
    "set(timespan)"
   ]
  },
  {
   "cell_type": "markdown",
   "id": "d89c592b",
   "metadata": {},
   "source": []
  },
  {
   "cell_type": "markdown",
   "id": "87b77577",
   "metadata": {},
   "source": [
    "# Powerful exploratory data analysis with MLlib\n"
   ]
  },
  {
   "cell_type": "markdown",
   "id": "6fb42e37",
   "metadata": {},
   "source": [
    "## Computing summary statistics with MLlib"
   ]
  },
  {
   "cell_type": "code",
   "execution_count": 30,
   "id": "c38e1cf9",
   "metadata": {},
   "outputs": [],
   "source": [
    "confidence_col = []\n",
    "evaluation_col = []\n",
    "orientation_col = []\n",
    "timespan_col= []\n",
    "for i in review:\n",
    "    for j in i:\n",
    "        confidence_col.append(j[0])\n",
    "        evaluation_col.append(j[1])\n",
    "        orientation_col.append(j[4])\n",
    "        timespan_col.append(j[7])"
   ]
  },
  {
   "cell_type": "code",
   "execution_count": 91,
   "id": "f6d9a7ab",
   "metadata": {},
   "outputs": [
    {
     "name": "stdout",
     "output_type": "stream",
     "text": [
      "+----------+----------+-----------+----------+\n",
      "|confidence|evaluation|orientation|  timespan|\n",
      "+----------+----------+-----------+----------+\n",
      "|         4|         1|          0|2010-07-05|\n",
      "|         4|         1|          1|2010-07-05|\n",
      "|         5|         1|          1|2010-07-05|\n",
      "|         4|         2|          1|2010-07-05|\n",
      "|         4|         2|          0|2010-07-05|\n",
      "|         4|         2|          0|2010-07-05|\n",
      "|         4|         2|          1|2010-07-05|\n",
      "|         3|         2|          1|2010-07-05|\n",
      "|         3|         0|         -1|2010-07-05|\n",
      "|         4|         2|          2|2010-07-05|\n",
      "|         2|        -2|         -1|2010-07-05|\n",
      "|         4|         2|          1|2010-07-05|\n",
      "|         4|         2|          0|2010-07-05|\n",
      "|         5|         2|          1|2010-07-05|\n",
      "|         4|        -1|          0|2010-07-05|\n",
      "|         4|        -2|         -1|2010-07-05|\n",
      "|         4|         1|         -1|2010-07-05|\n",
      "|         5|        -2|         -1|2010-07-05|\n",
      "|         4|         2|          0|2010-07-05|\n",
      "|         4|         1|          0|2010-07-05|\n",
      "+----------+----------+-----------+----------+\n",
      "only showing top 20 rows\n",
      "\n"
     ]
    }
   ],
   "source": [
    "import pandas as pd\n",
    "from pyspark.sql import SQLContext\n",
    "\n",
    "# intialise data of lists.\n",
    "data = {'confidence':confidence_col,\n",
    "       'evaluation':evaluation_col,'orientation':orientation_col,'timespan':timespan_col}\n",
    "  \n",
    "# Create DataFrame\n",
    "review_data = pd.DataFrame(data)\n",
    "review_data = review_data.dropna()\n",
    "review_data ['confidence']= review_data[['confidence']].astype(int)\n",
    "review_data ['orientation']= review_data[['orientation']].astype(int)\n",
    "review_data ['evaluation']= review_data[['evaluation']].astype(int)\n",
    "\n",
    "review_data = spark.createDataFrame(data=review_data)\n",
    "review_data.show()\n"
   ]
  },
  {
   "cell_type": "code",
   "execution_count": 96,
   "id": "7ff7db2d",
   "metadata": {},
   "outputs": [
    {
     "data": {
      "text/plain": [
       "3.5732009925558317"
      ]
     },
     "execution_count": 96,
     "metadata": {},
     "output_type": "execute_result"
    }
   ],
   "source": [
    "from pyspark.mllib.stat import Statistics\n",
    "\n",
    "confidence = review_data.rdd.map(lambda x: [int(x[0])])\n",
    "\n",
    "summary = Statistics.colStats(confidencerd)\n",
    "summary.mean()[0]"
   ]
  },
  {
   "cell_type": "code",
   "execution_count": 97,
   "id": "7e498a72",
   "metadata": {},
   "outputs": [
    {
     "data": {
      "text/plain": [
       "0.8443410847884275"
      ]
     },
     "execution_count": 97,
     "metadata": {},
     "output_type": "execute_result"
    }
   ],
   "source": [
    "from math import sqrt \n",
    "sqrt(summary.variance()[0])  # std. dev."
   ]
  },
  {
   "cell_type": "code",
   "execution_count": 98,
   "id": "210a91a6",
   "metadata": {},
   "outputs": [
    {
     "data": {
      "text/plain": [
       "array([5.])"
      ]
     },
     "execution_count": 98,
     "metadata": {},
     "output_type": "execute_result"
    }
   ],
   "source": [
    "summary.max()"
   ]
  },
  {
   "cell_type": "code",
   "execution_count": 99,
   "id": "722135f4",
   "metadata": {},
   "outputs": [
    {
     "data": {
      "text/plain": [
       "array([1.])"
      ]
     },
     "execution_count": 99,
     "metadata": {},
     "output_type": "execute_result"
    }
   ],
   "source": [
    "summary.min()"
   ]
  },
  {
   "cell_type": "markdown",
   "id": "2a606f02",
   "metadata": {},
   "source": [
    "### Using pearson and spearman to discover correlations"
   ]
  },
  {
   "cell_type": "code",
   "execution_count": 100,
   "id": "23d48ba6",
   "metadata": {},
   "outputs": [
    {
     "data": {
      "text/plain": [
       "array([[ 1.        , -0.04019695, -0.08341732],\n",
       "       [-0.04019695,  1.        ,  0.78031129],\n",
       "       [-0.08341732,  0.78031129,  1.        ]])"
      ]
     },
     "execution_count": 100,
     "metadata": {},
     "output_type": "execute_result"
    }
   ],
   "source": [
    "metrics = review_data.rdd.map(lambda x: [x[0], x[1], x[2]])\n",
    "Statistics.corr(metrics, method=\"spearman\")"
   ]
  },
  {
   "cell_type": "code",
   "execution_count": 101,
   "id": "9b925f0e",
   "metadata": {},
   "outputs": [
    {
     "data": {
      "text/plain": [
       "array([[ 1.        , -0.03831504, -0.06309566],\n",
       "       [-0.03831504,  1.        ,  0.76959781],\n",
       "       [-0.06309566,  0.76959781,  1.        ]])"
      ]
     },
     "execution_count": 101,
     "metadata": {},
     "output_type": "execute_result"
    }
   ],
   "source": [
    "Statistics.corr(metrics, method=\"pearson\")"
   ]
  },
  {
   "cell_type": "code",
   "execution_count": 102,
   "id": "dfd3057d",
   "metadata": {},
   "outputs": [
    {
     "name": "stdout",
     "output_type": "stream",
     "text": [
      "Chi squared test summary:\n",
      "method: pearson\n",
      "degrees of freedom = 4 \n",
      "statistic = 0.5852136752136753 \n",
      "pValue = 0.9646925263439344 \n",
      "No presumption against null hypothesis: observed follows the same distribution as expected..\n"
     ]
    }
   ],
   "source": [
    "from pyspark.mllib.linalg import Vectors\n",
    "\n",
    "visitors_freq = Vectors.dense(0.13, 0.61, 0.8, 0.5, 0.3)\n",
    "print(Statistics.chiSqTest(visitors_freq))"
   ]
  },
  {
   "cell_type": "markdown",
   "id": "fec35978",
   "metadata": {},
   "source": [
    "# Putting structure on your Big Data with SparkSQL"
   ]
  },
  {
   "cell_type": "code",
   "execution_count": 103,
   "id": "a00df568",
   "metadata": {},
   "outputs": [
    {
     "name": "stderr",
     "output_type": "stream",
     "text": [
      "C:\\spark-3.2.1-bin-hadoop3.2\\python\\pyspark\\sql\\dataframe.py:138: FutureWarning: Deprecated in 2.0, use createOrReplaceTempView instead.\n",
      "  warnings.warn(\n"
     ]
    }
   ],
   "source": [
    "review_data.registerTempTable(\"rdd\")"
   ]
  },
  {
   "cell_type": "markdown",
   "id": "0f391c2c",
   "metadata": {},
   "source": [
    "## Manipulating DataFrames with SparkSQL schemas"
   ]
  },
  {
   "cell_type": "code",
   "execution_count": 105,
   "id": "16cfae9b",
   "metadata": {},
   "outputs": [
    {
     "name": "stdout",
     "output_type": "stream",
     "text": [
      "+----------+\n",
      "|confidence|\n",
      "+----------+\n",
      "|         2|\n",
      "+----------+\n",
      "\n"
     ]
    }
   ],
   "source": [
    "spark.sql(\"\"\"SELECT confidence FROM rdd WHERE evaluation < 2 AND orientation > 1\"\"\").show()\n"
   ]
  },
  {
   "cell_type": "code",
   "execution_count": 106,
   "id": "7bd842f2",
   "metadata": {},
   "outputs": [
    {
     "name": "stdout",
     "output_type": "stream",
     "text": [
      "+----------+\n",
      "|confidence|\n",
      "+----------+\n",
      "|         4|\n",
      "|         4|\n",
      "|         4|\n",
      "|         4|\n",
      "|         4|\n",
      "|         4|\n",
      "|         4|\n",
      "|         5|\n",
      "|         4|\n",
      "|         4|\n",
      "|         3|\n",
      "|         3|\n",
      "|         3|\n",
      "|         4|\n",
      "|         3|\n",
      "|         5|\n",
      "|         4|\n",
      "|         4|\n",
      "|         4|\n",
      "|         3|\n",
      "+----------+\n",
      "only showing top 20 rows\n",
      "\n"
     ]
    }
   ],
   "source": [
    "spark.sql(\"\"\"SELECT confidence FROM rdd WHERE evaluation > 0 AND orientation < 1\"\"\").show()"
   ]
  },
  {
   "cell_type": "code",
   "execution_count": 109,
   "id": "35812232",
   "metadata": {
    "scrolled": true
   },
   "outputs": [
    {
     "name": "stdout",
     "output_type": "stream",
     "text": [
      "+----------+----------+\n",
      "|confidence|  timespan|\n",
      "+----------+----------+\n",
      "|         4|2010-07-05|\n",
      "|         4|2010-07-05|\n",
      "|         5|2010-07-05|\n",
      "|         3|2010-07-05|\n",
      "|         2|2010-07-05|\n",
      "|         4|2010-07-05|\n",
      "|         4|2010-07-05|\n",
      "|         4|2010-07-05|\n",
      "|         5|2010-07-05|\n",
      "|         4|2010-07-05|\n",
      "|         5|2010-07-05|\n",
      "|         4|2010-07-05|\n",
      "|         5|2010-07-05|\n",
      "|         4|2010-07-05|\n",
      "|         3|2010-07-05|\n",
      "|         4|2010-07-05|\n",
      "|         4|2010-07-05|\n",
      "|         4|2010-07-05|\n",
      "|         3|2010-07-05|\n",
      "|         4|2010-07-05|\n",
      "+----------+----------+\n",
      "only showing top 20 rows\n",
      "\n"
     ]
    }
   ],
   "source": [
    "spark.sql(\"\"\"SELECT confidence,timespan FROM rdd WHERE evaluation < 2 AND timespan = '2010-07-05'\"\"\").show()"
   ]
  },
  {
   "cell_type": "markdown",
   "id": "5a4f09bd",
   "metadata": {},
   "source": [
    "# Avoiding Shuffle and Reducing Operational Expenses"
   ]
  },
  {
   "cell_type": "code",
   "execution_count": 1,
   "id": "80a8e749",
   "metadata": {
    "scrolled": true
   },
   "outputs": [
    {
     "data": {
      "text/plain": [
       "'C:\\\\spark-3.2.1-bin-hadoop3.2'"
      ]
     },
     "execution_count": 1,
     "metadata": {},
     "output_type": "execute_result"
    }
   ],
   "source": [
    "import findspark\n",
    "findspark.init()\n",
    "findspark.find()"
   ]
  },
  {
   "cell_type": "code",
   "execution_count": 2,
   "id": "8161b813",
   "metadata": {},
   "outputs": [],
   "source": [
    "import pyspark\n",
    "from pyspark import SparkContext\n",
    "from pyspark import SparkConf"
   ]
  },
  {
   "cell_type": "code",
   "execution_count": 3,
   "id": "03b0752e",
   "metadata": {},
   "outputs": [],
   "source": [
    "from pyspark.sql import SparkSession\n",
    "\n",
    "spark = SparkSession.builder.getOrCreate()"
   ]
  },
  {
   "cell_type": "code",
   "execution_count": 4,
   "id": "f057364d",
   "metadata": {},
   "outputs": [],
   "source": [
    "df = spark.read.format(\"json\").option(\"multiLine\", \"true\").load(\"reviews.json\")"
   ]
  },
  {
   "cell_type": "code",
   "execution_count": 5,
   "id": "95d981b5",
   "metadata": {
    "scrolled": true
   },
   "outputs": [
    {
     "name": "stdout",
     "output_type": "stream",
     "text": [
      "+--------------------+\n",
      "|               paper|\n",
      "+--------------------+\n",
      "|[{1, accept, [{4,...|\n",
      "+--------------------+\n",
      "\n"
     ]
    }
   ],
   "source": [
    "df.show()"
   ]
  },
  {
   "cell_type": "code",
   "execution_count": 6,
   "id": "9a0e7dbb",
   "metadata": {},
   "outputs": [],
   "source": [
    "from pyspark.sql.functions import explode\n",
    "\n",
    "\n",
    "review = df.select('paper.review').collect()[0][0]\n"
   ]
  },
  {
   "cell_type": "code",
   "execution_count": 7,
   "id": "efb2ff87",
   "metadata": {},
   "outputs": [],
   "source": [
    "confidence_col = []\n",
    "evaluation_col = []\n",
    "orientation_col = []\n",
    "timespan_col= []\n",
    "for i in review:\n",
    "    for j in i:\n",
    "        confidence_col.append(j[0])\n",
    "        evaluation_col.append(j[1])\n",
    "        orientation_col.append(j[4])\n",
    "        timespan_col.append(j[7])"
   ]
  },
  {
   "cell_type": "code",
   "execution_count": 8,
   "id": "c1ebac91",
   "metadata": {
    "scrolled": true
   },
   "outputs": [
    {
     "name": "stdout",
     "output_type": "stream",
     "text": [
      "+----------+----------+-----------+----------+\n",
      "|confidence|evaluation|orientation|  timespan|\n",
      "+----------+----------+-----------+----------+\n",
      "|         4|         1|          0|2010-07-05|\n",
      "|         4|         1|          1|2010-07-05|\n",
      "|         5|         1|          1|2010-07-05|\n",
      "|         4|         2|          1|2010-07-05|\n",
      "|         4|         2|          0|2010-07-05|\n",
      "|         4|         2|          0|2010-07-05|\n",
      "|         4|         2|          1|2010-07-05|\n",
      "|         3|         2|          1|2010-07-05|\n",
      "|         3|         0|         -1|2010-07-05|\n",
      "|         4|         2|          2|2010-07-05|\n",
      "|         2|        -2|         -1|2010-07-05|\n",
      "|         4|         2|          1|2010-07-05|\n",
      "|         4|         2|          0|2010-07-05|\n",
      "|         5|         2|          1|2010-07-05|\n",
      "|         4|        -1|          0|2010-07-05|\n",
      "|         4|        -2|         -1|2010-07-05|\n",
      "|         4|         1|         -1|2010-07-05|\n",
      "|         5|        -2|         -1|2010-07-05|\n",
      "|         4|         2|          0|2010-07-05|\n",
      "|         4|         1|          0|2010-07-05|\n",
      "+----------+----------+-----------+----------+\n",
      "only showing top 20 rows\n",
      "\n"
     ]
    }
   ],
   "source": [
    "import pandas as pd\n",
    "from pyspark.sql import SQLContext\n",
    "\n",
    "# intialise data of lists.\n",
    "data = {'confidence':confidence_col,\n",
    "       'evaluation':evaluation_col,'orientation':orientation_col,'timespan':timespan_col}\n",
    "  \n",
    "# Create DataFrame\n",
    "review_data = pd.DataFrame(data)\n",
    "review_data = review_data.dropna()\n",
    "review_data ['confidence']= review_data[['confidence']].astype(int)\n",
    "review_data ['orientation']= review_data[['orientation']].astype(int)\n",
    "review_data ['evaluation']= review_data[['evaluation']].astype(int)\n",
    "\n",
    "review_data = spark.createDataFrame(data=review_data)\n",
    "review_data.show()\n"
   ]
  },
  {
   "cell_type": "code",
   "execution_count": 13,
   "id": "f2efb36f",
   "metadata": {},
   "outputs": [
    {
     "data": {
      "text/plain": [
       "[(4, Row(confidence=4, evaluation=1, orientation=0, timespan='2010-07-05')),\n",
       " (4, Row(confidence=4, evaluation=1, orientation=1, timespan='2010-07-05')),\n",
       " (5, Row(confidence=5, evaluation=1, orientation=1, timespan='2010-07-05')),\n",
       " (4, Row(confidence=4, evaluation=2, orientation=1, timespan='2010-07-05')),\n",
       " (4, Row(confidence=4, evaluation=2, orientation=0, timespan='2010-07-05')),\n",
       " (4, Row(confidence=4, evaluation=2, orientation=0, timespan='2010-07-05')),\n",
       " (4, Row(confidence=4, evaluation=2, orientation=1, timespan='2010-07-05')),\n",
       " (3, Row(confidence=3, evaluation=2, orientation=1, timespan='2010-07-05')),\n",
       " (3, Row(confidence=3, evaluation=0, orientation=-1, timespan='2010-07-05')),\n",
       " (4, Row(confidence=4, evaluation=2, orientation=2, timespan='2010-07-05')),\n",
       " (2, Row(confidence=2, evaluation=-2, orientation=-1, timespan='2010-07-05')),\n",
       " (4, Row(confidence=4, evaluation=2, orientation=1, timespan='2010-07-05')),\n",
       " (4, Row(confidence=4, evaluation=2, orientation=0, timespan='2010-07-05')),\n",
       " (5, Row(confidence=5, evaluation=2, orientation=1, timespan='2010-07-05')),\n",
       " (4, Row(confidence=4, evaluation=-1, orientation=0, timespan='2010-07-05')),\n",
       " (4, Row(confidence=4, evaluation=-2, orientation=-1, timespan='2010-07-05')),\n",
       " (4, Row(confidence=4, evaluation=1, orientation=-1, timespan='2010-07-05')),\n",
       " (5, Row(confidence=5, evaluation=-2, orientation=-1, timespan='2010-07-05')),\n",
       " (4, Row(confidence=4, evaluation=2, orientation=0, timespan='2010-07-05')),\n",
       " (4, Row(confidence=4, evaluation=1, orientation=0, timespan='2010-07-05')),\n",
       " (4, Row(confidence=4, evaluation=2, orientation=1, timespan='2010-07-05')),\n",
       " (5, Row(confidence=5, evaluation=1, orientation=0, timespan='2010-07-05')),\n",
       " (5, Row(confidence=5, evaluation=2, orientation=1, timespan='2010-07-05')),\n",
       " (4, Row(confidence=4, evaluation=1, orientation=0, timespan='2010-07-05')),\n",
       " (3, Row(confidence=3, evaluation=2, orientation=1, timespan='2010-07-05')),\n",
       " (4, Row(confidence=4, evaluation=2, orientation=0, timespan='2010-07-05')),\n",
       " (3, Row(confidence=3, evaluation=2, orientation=0, timespan='2010-07-05')),\n",
       " (3, Row(confidence=3, evaluation=2, orientation=-1, timespan='2010-07-05')),\n",
       " (5, Row(confidence=5, evaluation=-1, orientation=-1, timespan='2010-07-05')),\n",
       " (4, Row(confidence=4, evaluation=2, orientation=2, timespan='2010-07-05')),\n",
       " (3, Row(confidence=3, evaluation=2, orientation=0, timespan='2010-07-05')),\n",
       " (4, Row(confidence=4, evaluation=2, orientation=2, timespan='2010-07-05')),\n",
       " (4, Row(confidence=4, evaluation=2, orientation=2, timespan='2010-07-05')),\n",
       " (4, Row(confidence=4, evaluation=2, orientation=0, timespan='2010-07-05')),\n",
       " (4, Row(confidence=4, evaluation=-1, orientation=-1, timespan='2010-07-05')),\n",
       " (3, Row(confidence=3, evaluation=-2, orientation=-1, timespan='2010-07-05')),\n",
       " (4, Row(confidence=4, evaluation=-2, orientation=-1, timespan='2010-07-05')),\n",
       " (4, Row(confidence=4, evaluation=-1, orientation=0, timespan='2010-07-05')),\n",
       " (3, Row(confidence=3, evaluation=2, orientation=-1, timespan='2010-07-05')),\n",
       " (4, Row(confidence=4, evaluation=0, orientation=-1, timespan='2010-07-05')),\n",
       " (3, Row(confidence=3, evaluation=0, orientation=0, timespan='2010-07-05')),\n",
       " (5, Row(confidence=5, evaluation=2, orientation=0, timespan='2010-07-05')),\n",
       " (4, Row(confidence=4, evaluation=-1, orientation=-1, timespan='2010-07-05')),\n",
       " (4, Row(confidence=4, evaluation=1, orientation=0, timespan='2010-07-05')),\n",
       " (4, Row(confidence=4, evaluation=0, orientation=-1, timespan='2010-07-05')),\n",
       " (4, Row(confidence=4, evaluation=2, orientation=0, timespan='2010-07-05')),\n",
       " (4, Row(confidence=4, evaluation=0, orientation=-1, timespan='2010-07-05')),\n",
       " (3, Row(confidence=3, evaluation=-2, orientation=-1, timespan='2010-07-05')),\n",
       " (4, Row(confidence=4, evaluation=2, orientation=1, timespan='2010-07-05')),\n",
       " (4, Row(confidence=4, evaluation=2, orientation=2, timespan='2010-07-05')),\n",
       " (4, Row(confidence=4, evaluation=0, orientation=-1, timespan='2010-07-05')),\n",
       " (2, Row(confidence=2, evaluation=-2, orientation=-2, timespan='2010-07-05')),\n",
       " (3, Row(confidence=3, evaluation=-2, orientation=-1, timespan='2010-07-05')),\n",
       " (4, Row(confidence=4, evaluation=1, orientation=0, timespan='2010-07-05')),\n",
       " (4, Row(confidence=4, evaluation=2, orientation=1, timespan='2010-07-05')),\n",
       " (4, Row(confidence=4, evaluation=0, orientation=-1, timespan='2010-07-05')),\n",
       " (4, Row(confidence=4, evaluation=0, orientation=1, timespan='2010-07-05')),\n",
       " (3, Row(confidence=3, evaluation=-2, orientation=-1, timespan='2010-07-05')),\n",
       " (3, Row(confidence=3, evaluation=-2, orientation=-1, timespan='2010-07-05')),\n",
       " (3, Row(confidence=3, evaluation=1, orientation=-1, timespan='2010-07-05')),\n",
       " (4, Row(confidence=4, evaluation=1, orientation=0, timespan='2010-07-05')),\n",
       " (4, Row(confidence=4, evaluation=2, orientation=0, timespan='2010-07-05')),\n",
       " (4, Row(confidence=4, evaluation=2, orientation=2, timespan='2010-07-05')),\n",
       " (4, Row(confidence=4, evaluation=-1, orientation=-1, timespan='2010-07-05')),\n",
       " (3, Row(confidence=3, evaluation=2, orientation=1, timespan='2010-07-05')),\n",
       " (4, Row(confidence=4, evaluation=0, orientation=-1, timespan='2010-07-05')),\n",
       " (1, Row(confidence=1, evaluation=0, orientation=0, timespan='2010-07-05')),\n",
       " (3, Row(confidence=3, evaluation=2, orientation=0, timespan='2010-07-05')),\n",
       " (3, Row(confidence=3, evaluation=2, orientation=1, timespan='2010-07-05')),\n",
       " (4, Row(confidence=4, evaluation=1, orientation=0, timespan='2010-07-05')),\n",
       " (4, Row(confidence=4, evaluation=1, orientation=0, timespan='2010-07-05')),\n",
       " (5, Row(confidence=5, evaluation=2, orientation=2, timespan='2010-07-05')),\n",
       " (4, Row(confidence=4, evaluation=-2, orientation=-2, timespan='2010-07-05')),\n",
       " (4, Row(confidence=4, evaluation=-1, orientation=0, timespan='2010-07-05')),\n",
       " (4, Row(confidence=4, evaluation=-2, orientation=-1, timespan='2010-07-05')),\n",
       " (5, Row(confidence=5, evaluation=-2, orientation=-2, timespan='2010-07-05')),\n",
       " (3, Row(confidence=3, evaluation=-1, orientation=-1, timespan='2010-07-05')),\n",
       " (4, Row(confidence=4, evaluation=0, orientation=-1, timespan='2010-07-05')),\n",
       " (4, Row(confidence=4, evaluation=-2, orientation=-1, timespan='2010-07-05')),\n",
       " (4, Row(confidence=4, evaluation=-1, orientation=-1, timespan='2010-07-05')),\n",
       " (4, Row(confidence=4, evaluation=-2, orientation=-1, timespan='2010-07-05')),\n",
       " (4, Row(confidence=4, evaluation=-1, orientation=-1, timespan='2010-07-05')),\n",
       " (4, Row(confidence=4, evaluation=2, orientation=2, timespan='2010-07-05')),\n",
       " (2, Row(confidence=2, evaluation=1, orientation=1, timespan='2010-07-05')),\n",
       " (4, Row(confidence=4, evaluation=2, orientation=2, timespan='2010-07-05')),\n",
       " (5, Row(confidence=5, evaluation=2, orientation=2, timespan='2010-07-05')),\n",
       " (4, Row(confidence=4, evaluation=0, orientation=1, timespan='2010-07-05')),\n",
       " (4, Row(confidence=4, evaluation=2, orientation=1, timespan='2010-07-05')),\n",
       " (4, Row(confidence=4, evaluation=-1, orientation=-1, timespan='2010-07-05')),\n",
       " (4, Row(confidence=4, evaluation=1, orientation=0, timespan='2010-07-05')),\n",
       " (4, Row(confidence=4, evaluation=1, orientation=0, timespan='2010-07-05')),\n",
       " (3, Row(confidence=3, evaluation=2, orientation=0, timespan='2010-07-05')),\n",
       " (4, Row(confidence=4, evaluation=2, orientation=1, timespan='2010-07-05')),\n",
       " (4, Row(confidence=4, evaluation=2, orientation=1, timespan='2010-07-05')),\n",
       " (4, Row(confidence=4, evaluation=1, orientation=0, timespan='2010-07-05')),\n",
       " (1, Row(confidence=1, evaluation=0, orientation=-1, timespan='2010-07-05')),\n",
       " (4, Row(confidence=4, evaluation=0, orientation=-1, timespan='2010-07-05')),\n",
       " (4, Row(confidence=4, evaluation=2, orientation=0, timespan='2010-07-05')),\n",
       " (4, Row(confidence=4, evaluation=2, orientation=1, timespan='2010-07-05')),\n",
       " (4, Row(confidence=4, evaluation=1, orientation=-1, timespan='2010-07-05')),\n",
       " (3, Row(confidence=3, evaluation=1, orientation=0, timespan='2010-07-05')),\n",
       " (4, Row(confidence=4, evaluation=-1, orientation=-1, timespan='2010-07-05')),\n",
       " (3, Row(confidence=3, evaluation=1, orientation=0, timespan='2010-07-05')),\n",
       " (3, Row(confidence=3, evaluation=2, orientation=1, timespan='2010-07-05')),\n",
       " (4, Row(confidence=4, evaluation=2, orientation=-1, timespan='2010-07-05')),\n",
       " (2, Row(confidence=2, evaluation=0, orientation=0, timespan='2010-07-05')),\n",
       " (3, Row(confidence=3, evaluation=0, orientation=0, timespan='2010-07-05')),\n",
       " (4, Row(confidence=4, evaluation=-2, orientation=-1, timespan='2010-07-05')),\n",
       " (4, Row(confidence=4, evaluation=1, orientation=0, timespan='2010-07-05')),\n",
       " (4, Row(confidence=4, evaluation=-1, orientation=-1, timespan='2010-07-05')),\n",
       " (3, Row(confidence=3, evaluation=-1, orientation=-1, timespan='2010-07-05')),\n",
       " (2, Row(confidence=2, evaluation=0, orientation=-1, timespan='2010-07-05')),\n",
       " (4, Row(confidence=4, evaluation=2, orientation=1, timespan='2010-07-05')),\n",
       " (3, Row(confidence=3, evaluation=0, orientation=-1, timespan='2010-07-05')),\n",
       " (4, Row(confidence=4, evaluation=1, orientation=0, timespan='2010-07-05')),\n",
       " (5, Row(confidence=5, evaluation=1, orientation=0, timespan='2013-07-05')),\n",
       " (5, Row(confidence=5, evaluation=0, orientation=-1, timespan='2013-07-05')),\n",
       " (3, Row(confidence=3, evaluation=2, orientation=1, timespan='2013-07-05')),\n",
       " (3, Row(confidence=3, evaluation=1, orientation=1, timespan='2013-07-05')),\n",
       " (3, Row(confidence=3, evaluation=-1, orientation=-1, timespan='2013-07-05')),\n",
       " (3, Row(confidence=3, evaluation=-2, orientation=-1, timespan='2013-07-05')),\n",
       " (4, Row(confidence=4, evaluation=1, orientation=1, timespan='2013-07-05')),\n",
       " (3, Row(confidence=3, evaluation=1, orientation=1, timespan='2013-07-05')),\n",
       " (4, Row(confidence=4, evaluation=-2, orientation=-1, timespan='2013-07-05')),\n",
       " (4, Row(confidence=4, evaluation=-1, orientation=-1, timespan='2013-07-05')),\n",
       " (4, Row(confidence=4, evaluation=1, orientation=1, timespan='2013-07-05')),\n",
       " (3, Row(confidence=3, evaluation=-2, orientation=-2, timespan='2013-07-05')),\n",
       " (4, Row(confidence=4, evaluation=-1, orientation=-1, timespan='2013-07-05')),\n",
       " (1, Row(confidence=1, evaluation=1, orientation=1, timespan='2013-07-05')),\n",
       " (2, Row(confidence=2, evaluation=2, orientation=1, timespan='2013-07-05')),\n",
       " (5, Row(confidence=5, evaluation=1, orientation=-1, timespan='2013-07-05')),\n",
       " (5, Row(confidence=5, evaluation=-2, orientation=-1, timespan='2013-07-05')),\n",
       " (4, Row(confidence=4, evaluation=-2, orientation=-2, timespan='2013-07-05')),\n",
       " (5, Row(confidence=5, evaluation=2, orientation=0, timespan='2013-07-05')),\n",
       " (5, Row(confidence=5, evaluation=1, orientation=0, timespan='2013-07-05')),\n",
       " (4, Row(confidence=4, evaluation=-2, orientation=-2, timespan='2013-07-05')),\n",
       " (3, Row(confidence=3, evaluation=-1, orientation=-1, timespan='2013-07-05')),\n",
       " (3, Row(confidence=3, evaluation=1, orientation=1, timespan='2013-07-05')),\n",
       " (1, Row(confidence=1, evaluation=0, orientation=-1, timespan='2013-07-05')),\n",
       " (4, Row(confidence=4, evaluation=1, orientation=0, timespan='2013-07-05')),\n",
       " (4, Row(confidence=4, evaluation=1, orientation=1, timespan='2013-07-05')),\n",
       " (3, Row(confidence=3, evaluation=-1, orientation=-1, timespan='2013-07-05')),\n",
       " (4, Row(confidence=4, evaluation=2, orientation=1, timespan='2013-07-05')),\n",
       " (5, Row(confidence=5, evaluation=-2, orientation=-2, timespan='2013-07-05')),\n",
       " (3, Row(confidence=3, evaluation=-2, orientation=-2, timespan='2013-07-05')),\n",
       " (5, Row(confidence=5, evaluation=-2, orientation=-1, timespan='2013-07-05')),\n",
       " (4, Row(confidence=4, evaluation=0, orientation=-1, timespan='2013-07-05')),\n",
       " (4, Row(confidence=4, evaluation=2, orientation=1, timespan='2013-07-05')),\n",
       " (5, Row(confidence=5, evaluation=2, orientation=0, timespan='2013-07-05')),\n",
       " (3, Row(confidence=3, evaluation=0, orientation=0, timespan='2013-07-05')),\n",
       " (3, Row(confidence=3, evaluation=1, orientation=1, timespan='2013-07-05')),\n",
       " (5, Row(confidence=5, evaluation=2, orientation=1, timespan='2013-07-05')),\n",
       " (4, Row(confidence=4, evaluation=-2, orientation=-2, timespan='2013-07-05')),\n",
       " (4, Row(confidence=4, evaluation=2, orientation=1, timespan='2013-07-05')),\n",
       " (3, Row(confidence=3, evaluation=-2, orientation=-1, timespan='2013-07-05')),\n",
       " (4, Row(confidence=4, evaluation=1, orientation=0, timespan='2013-07-05')),\n",
       " (4, Row(confidence=4, evaluation=0, orientation=-1, timespan='2013-07-05')),\n",
       " (3, Row(confidence=3, evaluation=0, orientation=-1, timespan='2013-07-05')),\n",
       " (4, Row(confidence=4, evaluation=2, orientation=2, timespan='2013-07-05')),\n",
       " (4, Row(confidence=4, evaluation=-2, orientation=-2, timespan='2013-07-05')),\n",
       " (5, Row(confidence=5, evaluation=2, orientation=1, timespan='2013-07-05')),\n",
       " (4, Row(confidence=4, evaluation=2, orientation=1, timespan='2013-07-05')),\n",
       " (5, Row(confidence=5, evaluation=2, orientation=2, timespan='2013-07-05')),\n",
       " (5, Row(confidence=5, evaluation=2, orientation=2, timespan='2013-07-05')),\n",
       " (4, Row(confidence=4, evaluation=2, orientation=0, timespan='2013-07-05')),\n",
       " (4, Row(confidence=4, evaluation=2, orientation=1, timespan='2013-07-05')),\n",
       " (4, Row(confidence=4, evaluation=-2, orientation=-1, timespan='2013-07-05')),\n",
       " (3, Row(confidence=3, evaluation=2, orientation=1, timespan='2013-07-05')),\n",
       " (5, Row(confidence=5, evaluation=1, orientation=0, timespan='2013-07-05')),\n",
       " (3, Row(confidence=3, evaluation=1, orientation=0, timespan='2013-07-05')),\n",
       " (4, Row(confidence=4, evaluation=-2, orientation=-2, timespan='2013-07-05')),\n",
       " (1, Row(confidence=1, evaluation=2, orientation=1, timespan='2013-07-05')),\n",
       " (5, Row(confidence=5, evaluation=2, orientation=0, timespan='2013-07-05')),\n",
       " (3, Row(confidence=3, evaluation=1, orientation=1, timespan='2013-07-05')),\n",
       " (3, Row(confidence=3, evaluation=0, orientation=0, timespan='2013-07-05')),\n",
       " (4, Row(confidence=4, evaluation=-2, orientation=-2, timespan='2013-07-05')),\n",
       " (3, Row(confidence=3, evaluation=1, orientation=0, timespan='2013-07-05')),\n",
       " (4, Row(confidence=4, evaluation=-1, orientation=-1, timespan='2013-07-05')),\n",
       " (4, Row(confidence=4, evaluation=-2, orientation=-2, timespan='2013-07-05')),\n",
       " (2, Row(confidence=2, evaluation=0, orientation=-1, timespan='2013-07-05')),\n",
       " (3, Row(confidence=3, evaluation=2, orientation=-1, timespan='2013-07-05')),\n",
       " (5, Row(confidence=5, evaluation=-2, orientation=-2, timespan='2013-07-05')),\n",
       " (3, Row(confidence=3, evaluation=2, orientation=1, timespan='2013-07-05')),\n",
       " (3, Row(confidence=3, evaluation=1, orientation=1, timespan='2013-07-05')),\n",
       " (3, Row(confidence=3, evaluation=-1, orientation=-2, timespan='2013-07-05')),\n",
       " (3, Row(confidence=3, evaluation=-1, orientation=-1, timespan='2013-07-05')),\n",
       " (4, Row(confidence=4, evaluation=-1, orientation=-1, timespan='2013-07-05')),\n",
       " (3, Row(confidence=3, evaluation=2, orientation=0, timespan='2013-07-05')),\n",
       " (4, Row(confidence=4, evaluation=2, orientation=1, timespan='2013-07-05')),\n",
       " (3, Row(confidence=3, evaluation=2, orientation=1, timespan='2013-07-05')),\n",
       " (3, Row(confidence=3, evaluation=2, orientation=1, timespan='2013-07-05')),\n",
       " (3, Row(confidence=3, evaluation=1, orientation=1, timespan='2013-07-05')),\n",
       " (3, Row(confidence=3, evaluation=1, orientation=0, timespan='2013-07-05')),\n",
       " (4, Row(confidence=4, evaluation=-1, orientation=-1, timespan='2013-07-05')),\n",
       " (3, Row(confidence=3, evaluation=2, orientation=1, timespan='2013-07-05')),\n",
       " (3, Row(confidence=3, evaluation=1, orientation=0, timespan='2013-07-05')),\n",
       " (4, Row(confidence=4, evaluation=2, orientation=0, timespan='2013-07-05')),\n",
       " (4, Row(confidence=4, evaluation=-2, orientation=-1, timespan='2014-07-05')),\n",
       " (3, Row(confidence=3, evaluation=-1, orientation=-1, timespan='2014-07-05')),\n",
       " (4, Row(confidence=4, evaluation=0, orientation=0, timespan='2014-07-05')),\n",
       " (4, Row(confidence=4, evaluation=-1, orientation=-2, timespan='2014-07-05')),\n",
       " (3, Row(confidence=3, evaluation=1, orientation=0, timespan='2014-07-05')),\n",
       " (3, Row(confidence=3, evaluation=-1, orientation=-1, timespan='2014-07-05')),\n",
       " (2, Row(confidence=2, evaluation=1, orientation=1, timespan='2014-07-05')),\n",
       " (4, Row(confidence=4, evaluation=-2, orientation=-2, timespan='2014-07-05')),\n",
       " (4, Row(confidence=4, evaluation=-2, orientation=-1, timespan='2014-07-05')),\n",
       " (5, Row(confidence=5, evaluation=-2, orientation=-1, timespan='2014-07-05')),\n",
       " (3, Row(confidence=3, evaluation=-2, orientation=-1, timespan='2014-07-05')),\n",
       " (5, Row(confidence=5, evaluation=0, orientation=0, timespan='2014-07-05')),\n",
       " (4, Row(confidence=4, evaluation=-2, orientation=-1, timespan='2014-07-05')),\n",
       " (5, Row(confidence=5, evaluation=-2, orientation=0, timespan='2014-07-05')),\n",
       " (3, Row(confidence=3, evaluation=-1, orientation=-1, timespan='2014-07-05')),\n",
       " (4, Row(confidence=4, evaluation=1, orientation=1, timespan='2014-07-05')),\n",
       " (3, Row(confidence=3, evaluation=-2, orientation=-1, timespan='2014-07-05')),\n",
       " (3, Row(confidence=3, evaluation=0, orientation=0, timespan='2014-07-05')),\n",
       " (4, Row(confidence=4, evaluation=0, orientation=0, timespan='2014-07-05')),\n",
       " (3, Row(confidence=3, evaluation=-1, orientation=-1, timespan='2014-07-05')),\n",
       " (4, Row(confidence=4, evaluation=0, orientation=-1, timespan='2014-07-05')),\n",
       " (3, Row(confidence=3, evaluation=2, orientation=0, timespan='2014-07-05')),\n",
       " (3, Row(confidence=3, evaluation=1, orientation=0, timespan='2014-07-05')),\n",
       " (3, Row(confidence=3, evaluation=-2, orientation=-2, timespan='2014-07-05')),\n",
       " (3, Row(confidence=3, evaluation=-1, orientation=-1, timespan='2014-07-05')),\n",
       " (5, Row(confidence=5, evaluation=0, orientation=-1, timespan='2014-07-05')),\n",
       " (3, Row(confidence=3, evaluation=0, orientation=-1, timespan='2014-07-05')),\n",
       " (5, Row(confidence=5, evaluation=-2, orientation=-2, timespan='2014-07-05')),\n",
       " (3, Row(confidence=3, evaluation=2, orientation=0, timespan='2014-07-05')),\n",
       " (3, Row(confidence=3, evaluation=1, orientation=0, timespan='2014-07-05')),\n",
       " (3, Row(confidence=3, evaluation=2, orientation=1, timespan='2014-07-05')),\n",
       " (4, Row(confidence=4, evaluation=2, orientation=-1, timespan='2014-07-05')),\n",
       " (4, Row(confidence=4, evaluation=-2, orientation=-2, timespan='2014-07-05')),\n",
       " (3, Row(confidence=3, evaluation=-2, orientation=-1, timespan='2014-07-05')),\n",
       " (4, Row(confidence=4, evaluation=0, orientation=0, timespan='2014-07-05')),\n",
       " (2, Row(confidence=2, evaluation=2, orientation=1, timespan='2014-07-05')),\n",
       " (3, Row(confidence=3, evaluation=-2, orientation=-1, timespan='2014-07-05')),\n",
       " (2, Row(confidence=2, evaluation=0, orientation=0, timespan='2014-07-05')),\n",
       " (5, Row(confidence=5, evaluation=-2, orientation=-1, timespan='2014-07-05')),\n",
       " (4, Row(confidence=4, evaluation=2, orientation=0, timespan='2014-07-05')),\n",
       " (5, Row(confidence=5, evaluation=-2, orientation=-1, timespan='2014-07-05')),\n",
       " (4, Row(confidence=4, evaluation=0, orientation=0, timespan='2014-07-05')),\n",
       " (3, Row(confidence=3, evaluation=2, orientation=1, timespan='2014-07-05')),\n",
       " (3, Row(confidence=3, evaluation=1, orientation=-1, timespan='2014-07-05')),\n",
       " (4, Row(confidence=4, evaluation=-2, orientation=-1, timespan='2014-07-05')),\n",
       " (3, Row(confidence=3, evaluation=1, orientation=1, timespan='2014-07-05')),\n",
       " (2, Row(confidence=2, evaluation=1, orientation=0, timespan='2014-07-05')),\n",
       " (4, Row(confidence=4, evaluation=-2, orientation=-1, timespan='2014-07-05')),\n",
       " (4, Row(confidence=4, evaluation=-2, orientation=0, timespan='2014-07-05')),\n",
       " (3, Row(confidence=3, evaluation=-1, orientation=-1, timespan='2014-07-05')),\n",
       " (3, Row(confidence=3, evaluation=-2, orientation=-1, timespan='2014-07-05')),\n",
       " (4, Row(confidence=4, evaluation=-2, orientation=-1, timespan='2014-07-05')),\n",
       " (3, Row(confidence=3, evaluation=-2, orientation=-1, timespan='2014-07-05')),\n",
       " (3, Row(confidence=3, evaluation=1, orientation=-1, timespan='2014-07-05')),\n",
       " (2, Row(confidence=2, evaluation=0, orientation=0, timespan='2014-07-05')),\n",
       " (3, Row(confidence=3, evaluation=2, orientation=1, timespan='2014-07-05')),\n",
       " (3, Row(confidence=3, evaluation=1, orientation=1, timespan='2014-07-05')),\n",
       " (3, Row(confidence=3, evaluation=1, orientation=1, timespan='2014-07-05')),\n",
       " (3, Row(confidence=3, evaluation=2, orientation=1, timespan='2014-07-05')),\n",
       " (3, Row(confidence=3, evaluation=-1, orientation=0, timespan='2014-07-05')),\n",
       " (3, Row(confidence=3, evaluation=-2, orientation=-1, timespan='2014-07-05')),\n",
       " (4, Row(confidence=4, evaluation=0, orientation=-1, timespan='2014-07-05')),\n",
       " (4, Row(confidence=4, evaluation=1, orientation=0, timespan='2014-07-05')),\n",
       " (4, Row(confidence=4, evaluation=-2, orientation=-1, timespan='2014-07-05')),\n",
       " (3, Row(confidence=3, evaluation=-1, orientation=-1, timespan='2014-07-05')),\n",
       " (5, Row(confidence=5, evaluation=-1, orientation=-1, timespan='2014-07-05')),\n",
       " (3, Row(confidence=3, evaluation=1, orientation=1, timespan='2014-07-05')),\n",
       " (3, Row(confidence=3, evaluation=2, orientation=1, timespan='2014-07-05')),\n",
       " (3, Row(confidence=3, evaluation=1, orientation=-1, timespan='2014-07-05')),\n",
       " (4, Row(confidence=4, evaluation=0, orientation=0, timespan='2014-07-05')),\n",
       " (3, Row(confidence=3, evaluation=1, orientation=1, timespan='2014-07-05')),\n",
       " (4, Row(confidence=4, evaluation=1, orientation=1, timespan='2014-07-05')),\n",
       " (3, Row(confidence=3, evaluation=-2, orientation=-2, timespan='2014-07-05')),\n",
       " (1, Row(confidence=1, evaluation=-2, orientation=-2, timespan='2014-07-05')),\n",
       " (3, Row(confidence=3, evaluation=0, orientation=0, timespan='2014-07-05')),\n",
       " (1, Row(confidence=1, evaluation=-2, orientation=-1, timespan='2014-07-05')),\n",
       " (3, Row(confidence=3, evaluation=-1, orientation=-1, timespan='2014-07-05')),\n",
       " (2, Row(confidence=2, evaluation=2, orientation=1, timespan='2014-07-05')),\n",
       " (5, Row(confidence=5, evaluation=-2, orientation=-2, timespan='2014-07-05')),\n",
       " (2, Row(confidence=2, evaluation=0, orientation=0, timespan='2014-07-05')),\n",
       " (3, Row(confidence=3, evaluation=1, orientation=0, timespan='2014-07-05')),\n",
       " (3, Row(confidence=3, evaluation=1, orientation=0, timespan='2014-07-05')),\n",
       " (3, Row(confidence=3, evaluation=0, orientation=-1, timespan='2014-07-05')),\n",
       " (4, Row(confidence=4, evaluation=0, orientation=0, timespan='2014-07-05')),\n",
       " (4, Row(confidence=4, evaluation=2, orientation=2, timespan='2014-07-05')),\n",
       " (2, Row(confidence=2, evaluation=-1, orientation=-1, timespan='2014-07-05')),\n",
       " (4, Row(confidence=4, evaluation=-1, orientation=-1, timespan='2014-07-05')),\n",
       " (3, Row(confidence=3, evaluation=-1, orientation=-1, timespan='2014-07-05')),\n",
       " (3, Row(confidence=3, evaluation=1, orientation=0, timespan='2014-07-05')),\n",
       " (3, Row(confidence=3, evaluation=0, orientation=-1, timespan='2014-07-05')),\n",
       " (3, Row(confidence=3, evaluation=2, orientation=1, timespan='2014-07-05')),\n",
       " (2, Row(confidence=2, evaluation=1, orientation=0, timespan='2014-07-05')),\n",
       " (3, Row(confidence=3, evaluation=2, orientation=1, timespan='2014-07-05')),\n",
       " (3, Row(confidence=3, evaluation=-2, orientation=-2, timespan='2014-07-05')),\n",
       " (3, Row(confidence=3, evaluation=-2, orientation=-1, timespan='2014-07-05')),\n",
       " (2, Row(confidence=2, evaluation=-1, orientation=-1, timespan='2014-07-05')),\n",
       " (3, Row(confidence=3, evaluation=-2, orientation=-1, timespan='2014-07-05')),\n",
       " (2, Row(confidence=2, evaluation=-2, orientation=-1, timespan='2014-07-05')),\n",
       " (3, Row(confidence=3, evaluation=2, orientation=0, timespan='2014-07-05')),\n",
       " (3, Row(confidence=3, evaluation=-2, orientation=-2, timespan='2014-07-05')),\n",
       " (4, Row(confidence=4, evaluation=-2, orientation=-2, timespan='2014-07-05')),\n",
       " (3, Row(confidence=3, evaluation=0, orientation=-1, timespan='2014-07-05')),\n",
       " (2, Row(confidence=2, evaluation=1, orientation=0, timespan='2014-07-05')),\n",
       " (3, Row(confidence=3, evaluation=2, orientation=1, timespan='2014-07-05')),\n",
       " (3, Row(confidence=3, evaluation=1, orientation=1, timespan='2014-07-05')),\n",
       " (3, Row(confidence=3, evaluation=2, orientation=1, timespan='2014-07-05')),\n",
       " (5, Row(confidence=5, evaluation=1, orientation=-1, timespan='2014-07-05')),\n",
       " (3, Row(confidence=3, evaluation=2, orientation=1, timespan='2014-07-05')),\n",
       " (2, Row(confidence=2, evaluation=0, orientation=-1, timespan='2014-07-05')),\n",
       " (4, Row(confidence=4, evaluation=0, orientation=0, timespan='2014-07-05')),\n",
       " (4, Row(confidence=4, evaluation=1, orientation=0, timespan='2014-07-05')),\n",
       " (3, Row(confidence=3, evaluation=1, orientation=0, timespan='2014-07-05')),\n",
       " (3, Row(confidence=3, evaluation=-1, orientation=-1, timespan='2014-07-05')),\n",
       " (2, Row(confidence=2, evaluation=0, orientation=-1, timespan='2014-07-05')),\n",
       " (5, Row(confidence=5, evaluation=0, orientation=-1, timespan='2014-07-05')),\n",
       " (3, Row(confidence=3, evaluation=-1, orientation=-1, timespan='2014-07-05')),\n",
       " (4, Row(confidence=4, evaluation=-1, orientation=-1, timespan='2014-07-05')),\n",
       " (3, Row(confidence=3, evaluation=1, orientation=1, timespan='2014-07-05')),\n",
       " (4, Row(confidence=4, evaluation=0, orientation=0, timespan='2014-07-05')),\n",
       " (4, Row(confidence=4, evaluation=1, orientation=0, timespan='2014-07-05')),\n",
       " (4, Row(confidence=4, evaluation=-2, orientation=-2, timespan='2014-07-05')),\n",
       " (3, Row(confidence=3, evaluation=-1, orientation=0, timespan='2014-07-05')),\n",
       " (3, Row(confidence=3, evaluation=-2, orientation=-1, timespan='2014-07-05')),\n",
       " (3, Row(confidence=3, evaluation=-1, orientation=-1, timespan='2014-07-05')),\n",
       " (3, Row(confidence=3, evaluation=2, orientation=1, timespan='2014-07-05')),\n",
       " (2, Row(confidence=2, evaluation=2, orientation=1, timespan='2014-07-05')),\n",
       " (4, Row(confidence=4, evaluation=-1, orientation=0, timespan='2015-07-05')),\n",
       " (4, Row(confidence=4, evaluation=0, orientation=0, timespan='2015-07-05')),\n",
       " (4, Row(confidence=4, evaluation=-2, orientation=-2, timespan='2015-07-05')),\n",
       " (4, Row(confidence=4, evaluation=-2, orientation=-1, timespan='2015-07-05')),\n",
       " (3, Row(confidence=3, evaluation=2, orientation=1, timespan='2015-07-05')),\n",
       " (4, Row(confidence=4, evaluation=-2, orientation=-1, timespan='2015-07-05')),\n",
       " (3, Row(confidence=3, evaluation=-1, orientation=0, timespan='2015-07-05')),\n",
       " (4, Row(confidence=4, evaluation=-2, orientation=-1, timespan='2015-07-05')),\n",
       " (3, Row(confidence=3, evaluation=1, orientation=0, timespan='2015-07-05')),\n",
       " (3, Row(confidence=3, evaluation=2, orientation=1, timespan='2015-07-05')),\n",
       " (3, Row(confidence=3, evaluation=-2, orientation=-1, timespan='2015-07-05')),\n",
       " (3, Row(confidence=3, evaluation=-1, orientation=0, timespan='2015-07-05')),\n",
       " (4, Row(confidence=4, evaluation=1, orientation=0, timespan='2015-07-05')),\n",
       " (4, Row(confidence=4, evaluation=0, orientation=-1, timespan='2015-07-05')),\n",
       " (4, Row(confidence=4, evaluation=-2, orientation=-2, timespan='2015-07-05')),\n",
       " (4, Row(confidence=4, evaluation=0, orientation=-1, timespan='2015-07-05')),\n",
       " (5, Row(confidence=5, evaluation=-2, orientation=-1, timespan='2015-07-05')),\n",
       " (4, Row(confidence=4, evaluation=-1, orientation=-1, timespan='2015-07-05')),\n",
       " (5, Row(confidence=5, evaluation=-2, orientation=-2, timespan='2015-07-05')),\n",
       " (4, Row(confidence=4, evaluation=0, orientation=-2, timespan='2015-07-05')),\n",
       " (5, Row(confidence=5, evaluation=-1, orientation=-1, timespan='2015-07-05')),\n",
       " (4, Row(confidence=4, evaluation=-1, orientation=-1, timespan='2015-07-05')),\n",
       " (4, Row(confidence=4, evaluation=-2, orientation=-2, timespan='2015-07-05')),\n",
       " (4, Row(confidence=4, evaluation=1, orientation=-1, timespan='2015-07-05')),\n",
       " (4, Row(confidence=4, evaluation=-2, orientation=0, timespan='2015-07-05')),\n",
       " (4, Row(confidence=4, evaluation=-2, orientation=-1, timespan='2015-07-05')),\n",
       " (4, Row(confidence=4, evaluation=-2, orientation=0, timespan='2015-07-05')),\n",
       " (4, Row(confidence=4, evaluation=-2, orientation=-1, timespan='2015-07-05')),\n",
       " (3, Row(confidence=3, evaluation=2, orientation=1, timespan='2015-07-05')),\n",
       " (4, Row(confidence=4, evaluation=-1, orientation=-1, timespan='2015-07-05')),\n",
       " (4, Row(confidence=4, evaluation=2, orientation=1, timespan='2015-07-05')),\n",
       " (3, Row(confidence=3, evaluation=2, orientation=1, timespan='2015-07-05')),\n",
       " (2, Row(confidence=2, evaluation=1, orientation=0, timespan='2015-07-05')),\n",
       " (3, Row(confidence=3, evaluation=0, orientation=1, timespan='2015-07-05')),\n",
       " (3, Row(confidence=3, evaluation=0, orientation=0, timespan='2015-07-05')),\n",
       " (4, Row(confidence=4, evaluation=2, orientation=0, timespan='2015-07-05')),\n",
       " (4, Row(confidence=4, evaluation=-1, orientation=0, timespan='2015-07-05')),\n",
       " (4, Row(confidence=4, evaluation=0, orientation=0, timespan='2015-07-05')),\n",
       " (3, Row(confidence=3, evaluation=-2, orientation=0, timespan='2015-07-05')),\n",
       " (3, Row(confidence=3, evaluation=1, orientation=1, timespan='2015-07-05')),\n",
       " (3, Row(confidence=3, evaluation=1, orientation=0, timespan='2015-07-05')),\n",
       " (3, Row(confidence=3, evaluation=1, orientation=0, timespan='2015-07-05')),\n",
       " (4, Row(confidence=4, evaluation=2, orientation=1, timespan='2015-07-05')),\n",
       " (4, Row(confidence=4, evaluation=2, orientation=1, timespan='2015-07-05')),\n",
       " (5, Row(confidence=5, evaluation=2, orientation=1, timespan='2015-07-05')),\n",
       " (5, Row(confidence=5, evaluation=2, orientation=1, timespan='2015-07-05')),\n",
       " (4, Row(confidence=4, evaluation=1, orientation=0, timespan='2015-07-05')),\n",
       " (3, Row(confidence=3, evaluation=2, orientation=0, timespan='2015-07-05')),\n",
       " (4, Row(confidence=4, evaluation=-1, orientation=0, timespan='2015-07-05')),\n",
       " (3, Row(confidence=3, evaluation=2, orientation=1, timespan='2015-07-05')),\n",
       " (2, Row(confidence=2, evaluation=1, orientation=2, timespan='2015-07-05')),\n",
       " (2, Row(confidence=2, evaluation=0, orientation=1, timespan='2015-07-05')),\n",
       " (4, Row(confidence=4, evaluation=0, orientation=0, timespan='2015-07-05')),\n",
       " (3, Row(confidence=3, evaluation=1, orientation=1, timespan='2015-07-05')),\n",
       " (2, Row(confidence=2, evaluation=-2, orientation=-1, timespan='2015-07-05')),\n",
       " (4, Row(confidence=4, evaluation=2, orientation=1, timespan='2015-07-05')),\n",
       " (4, Row(confidence=4, evaluation=2, orientation=1, timespan='2015-07-05')),\n",
       " (3, Row(confidence=3, evaluation=0, orientation=1, timespan='2015-07-05')),\n",
       " (3, Row(confidence=3, evaluation=2, orientation=1, timespan='2015-07-05')),\n",
       " (3, Row(confidence=3, evaluation=0, orientation=0, timespan='2015-07-05')),\n",
       " (4, Row(confidence=4, evaluation=1, orientation=1, timespan='2015-07-05')),\n",
       " (4, Row(confidence=4, evaluation=2, orientation=0, timespan='2015-07-05')),\n",
       " (4, Row(confidence=4, evaluation=0, orientation=0, timespan='2015-07-05')),\n",
       " (5, Row(confidence=5, evaluation=1, orientation=1, timespan='2015-07-05')),\n",
       " (4, Row(confidence=4, evaluation=2, orientation=0, timespan='2015-07-05')),\n",
       " (5, Row(confidence=5, evaluation=0, orientation=-2, timespan='2015-07-05')),\n",
       " (3, Row(confidence=3, evaluation=1, orientation=1, timespan='2015-07-05')),\n",
       " (3, Row(confidence=3, evaluation=-1, orientation=-1, timespan='2015-07-05')),\n",
       " (5, Row(confidence=5, evaluation=0, orientation=-1, timespan='2015-07-05')),\n",
       " (5, Row(confidence=5, evaluation=-2, orientation=-1, timespan='2015-07-05')),\n",
       " (4, Row(confidence=4, evaluation=-2, orientation=-2, timespan='2015-07-05')),\n",
       " (3, Row(confidence=3, evaluation=2, orientation=1, timespan='2015-07-05')),\n",
       " (4, Row(confidence=4, evaluation=-2, orientation=0, timespan='2015-07-05')),\n",
       " (3, Row(confidence=3, evaluation=1, orientation=0, timespan='2015-07-05')),\n",
       " (4, Row(confidence=4, evaluation=1, orientation=0, timespan='2015-07-05')),\n",
       " (5, Row(confidence=5, evaluation=-1, orientation=-2, timespan='2015-07-05')),\n",
       " (4, Row(confidence=4, evaluation=-1, orientation=-1, timespan='2015-07-05')),\n",
       " (4, Row(confidence=4, evaluation=-1, orientation=0, timespan='2015-07-05')),\n",
       " (3, Row(confidence=3, evaluation=1, orientation=-1, timespan='2015-07-05')),\n",
       " (4, Row(confidence=4, evaluation=1, orientation=-1, timespan='2015-07-05'))]"
      ]
     },
     "execution_count": 13,
     "metadata": {},
     "output_type": "execute_result"
    }
   ],
   "source": [
    "review_rdd=review_data.rdd\n",
    "# //at this point data is spread randomly, records for the same user_id can be on different executors\n",
    "# //when\n",
    "# //shuffle -> all records for the same user_id go to the same executor\n",
    "\n",
    "review_rdd = review_rdd.keyBy(lambda x: x[0])\n",
    "\n",
    "# //other operations that are key-wise doesn't require shuffle\n",
    "review_rdd.collect()"
   ]
  },
  {
   "cell_type": "markdown",
   "id": "f5a2eef6",
   "metadata": {},
   "source": [
    "# Saving Data in the Correct Format\t"
   ]
  },
  {
   "cell_type": "code",
   "execution_count": 25,
   "id": "9dd10376",
   "metadata": {},
   "outputs": [],
   "source": [
    "review_data.toPandas().to_csv(\"task8_data-save.csv\", header=True, index=False)"
   ]
  },
  {
   "cell_type": "markdown",
   "id": "8f0441ad",
   "metadata": {},
   "source": [
    "# Leveraging Graph API"
   ]
  },
  {
   "cell_type": "code",
   "execution_count": null,
   "id": "2d4e8d88",
   "metadata": {},
   "outputs": [],
   "source": []
  }
 ],
 "metadata": {
  "kernelspec": {
   "display_name": "Python 3 (ipykernel)",
   "language": "python",
   "name": "python3"
  },
  "language_info": {
   "codemirror_mode": {
    "name": "ipython",
    "version": 3
   },
   "file_extension": ".py",
   "mimetype": "text/x-python",
   "name": "python",
   "nbconvert_exporter": "python",
   "pygments_lexer": "ipython3",
   "version": "3.9.7"
  }
 },
 "nbformat": 4,
 "nbformat_minor": 5
}
